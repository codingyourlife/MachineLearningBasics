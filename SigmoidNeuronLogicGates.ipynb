{
 "cells": [
  {
   "cell_type": "markdown",
   "metadata": {
    "deletable": true,
    "editable": true
   },
   "source": [
    "# Neuron Intuitions"
   ]
  },
  {
   "cell_type": "markdown",
   "metadata": {
    "deletable": true,
    "editable": true
   },
   "source": [
    "Idea from Coursera Machine Learning Course (Andrew NG)\n",
    "<br>This document illustrates that all logic gates can be achieved using the Sigmoid function\n",
    "\n",
    "Sigmoid function: $g(z)=\\frac{1}{1+e^{-z}}$\n",
    "\n",
    "Tipp: Examples can be checked via [wolframalpha.com](http://www.wolframalpha.com/) and will show a number line with a dot at 1 if result is 1"
   ]
  },
  {
   "cell_type": "code",
   "execution_count": 1,
   "metadata": {
    "collapsed": true,
    "deletable": true,
    "editable": true
   },
   "outputs": [],
   "source": [
    "import graphviz\n",
    "from graphviz import Digraph\n",
    "from IPython.display import Image"
   ]
  },
  {
   "cell_type": "code",
   "execution_count": 2,
   "metadata": {
    "collapsed": true,
    "deletable": true,
    "editable": true
   },
   "outputs": [],
   "source": [
    "styles = {\n",
    "    'graph': {\n",
    "        'rankdir': 'LR',\n",
    "    }\n",
    "}"
   ]
  },
  {
   "cell_type": "code",
   "execution_count": 3,
   "metadata": {
    "collapsed": false,
    "deletable": true,
    "editable": true
   },
   "outputs": [
    {
     "data": {
      "text/plain": [
       "'graphviz/NeuronOr.jpg'"
      ]
     },
     "execution_count": 3,
     "metadata": {},
     "output_type": "execute_result"
    }
   ],
   "source": [
    "#Neuron OR graphic\n",
    "dot = Digraph(comment='Neuron OR', directory='graphviz', \n",
    "              format='jpg', filename=\"NeuronOr\")\n",
    "\n",
    "dot.node('A', '+1'); dot.node('B', 'x1'); dot.node('C', 'x2');\n",
    "dot.node('N', 'Neuron');\n",
    "dot.node('H', 'Result');\n",
    "\n",
    "dot.edge(tail_name='A', head_name='N', label=\"-10\")\n",
    "dot.edge(tail_name='B', head_name='N', label=\"20\")\n",
    "dot.edge(tail_name='C', head_name='N', label=\"20\")\n",
    "dot.edge(tail_name='N', head_name='H', label=\"?\")\n",
    "\n",
    "dot.graph_attr.update('graph' in styles and styles['graph'])\n",
    "\n",
    "dot.render(view=False)\n",
    "#dot"
   ]
  },
  {
   "cell_type": "code",
   "execution_count": 4,
   "metadata": {
    "collapsed": false,
    "deletable": true,
    "editable": true
   },
   "outputs": [
    {
     "data": {
      "text/plain": [
       "'graphviz/NeuronAnd.jpg'"
      ]
     },
     "execution_count": 4,
     "metadata": {},
     "output_type": "execute_result"
    }
   ],
   "source": [
    "#Neuron AND graphic\n",
    "dot = Digraph(comment='Neuron AND', directory='graphviz', \n",
    "              format='jpg', filename=\"NeuronAnd\")\n",
    "\n",
    "dot.node('A', '+1'); dot.node('B', 'x1'); dot.node('C', 'x2');\n",
    "dot.node('N', 'Neuron');\n",
    "dot.node('H', 'Result');\n",
    "\n",
    "dot.edge(tail_name='A', head_name='N', label=\"-30\")\n",
    "dot.edge(tail_name='B', head_name='N', label=\"20\")\n",
    "dot.edge(tail_name='C', head_name='N', label=\"20\")\n",
    "dot.edge(tail_name='N', head_name='H', label=\"?\")\n",
    "\n",
    "dot.graph_attr.update('graph' in styles and styles['graph'])\n",
    "\n",
    "dot.render(view=False)\n",
    "#dot"
   ]
  },
  {
   "cell_type": "code",
   "execution_count": 5,
   "metadata": {
    "collapsed": false,
    "deletable": true,
    "editable": true
   },
   "outputs": [
    {
     "data": {
      "text/plain": [
       "'graphviz/NeuronNegation.jpg'"
      ]
     },
     "execution_count": 5,
     "metadata": {},
     "output_type": "execute_result"
    }
   ],
   "source": [
    "#Neuron Negation graphic\n",
    "dot = Digraph(comment='Neuron Negation', directory='graphviz', \n",
    "              format='jpg', filename=\"NeuronNegation\")\n",
    "\n",
    "dot.node('A', '+1'); dot.node('B', 'x1');\n",
    "dot.node('N', 'Neuron');\n",
    "dot.node('H', 'Result');\n",
    "\n",
    "dot.edge(tail_name='A', head_name='N', label=\"10\")\n",
    "dot.edge(tail_name='B', head_name='N', label=\"-20\")\n",
    "dot.edge(tail_name='N', head_name='H', label=\"?\")\n",
    "\n",
    "dot.graph_attr.update('graph' in styles and styles['graph'])\n",
    "\n",
    "dot.render(view=False)\n",
    "#dot"
   ]
  },
  {
   "cell_type": "code",
   "execution_count": 6,
   "metadata": {
    "collapsed": false,
    "deletable": true,
    "editable": true
   },
   "outputs": [
    {
     "data": {
      "text/plain": [
       "'graphviz/NeuronNand.jpg'"
      ]
     },
     "execution_count": 6,
     "metadata": {},
     "output_type": "execute_result"
    }
   ],
   "source": [
    "#Neuron NAND graphic\n",
    "dot = Digraph(comment='Neuron NAND', directory='graphviz', \n",
    "              format='jpg', filename=\"NeuronNand\")\n",
    "\n",
    "dot.node('A', '+1'); dot.node('B', 'x1'); dot.node('C', 'x2');\n",
    "dot.node('N', 'Neuron');\n",
    "dot.node('H', 'Result');\n",
    "\n",
    "dot.edge(tail_name='A', head_name='N', label=\"10\")\n",
    "dot.edge(tail_name='B', head_name='N', label=\"-20\")\n",
    "dot.edge(tail_name='C', head_name='N', label=\"-20\")\n",
    "dot.edge(tail_name='N', head_name='H', label=\"?\")\n",
    "\n",
    "dot.graph_attr.update('graph' in styles and styles['graph'])\n",
    "\n",
    "dot.render(view=False)\n",
    "#dot"
   ]
  },
  {
   "cell_type": "code",
   "execution_count": 7,
   "metadata": {
    "collapsed": false,
    "deletable": true,
    "editable": true
   },
   "outputs": [
    {
     "data": {
      "text/plain": [
       "'graphviz/NeuronNor.jpg'"
      ]
     },
     "execution_count": 7,
     "metadata": {},
     "output_type": "execute_result"
    }
   ],
   "source": [
    "#Neuron NOR graphic\n",
    "dot = Digraph(comment='Neuron NOR', directory='graphviz', \n",
    "              format='jpg', filename=\"NeuronNor\")\n",
    "\n",
    "dot.node('A', '+1'); dot.node('B', 'x1'); dot.node('C', 'x2');\n",
    "dot.node('N', 'Neuron');\n",
    "dot.node('H', 'Result');\n",
    "\n",
    "dot.edge(tail_name='A', head_name='N', label=\"30\")\n",
    "dot.edge(tail_name='B', head_name='N', label=\"-20\")\n",
    "dot.edge(tail_name='C', head_name='N', label=\"-20\")\n",
    "dot.edge(tail_name='N', head_name='H', label=\"?\")\n",
    "\n",
    "dot.graph_attr.update('graph' in styles and styles['graph'])\n",
    "\n",
    "dot.render(view=False)\n",
    "#dot"
   ]
  },
  {
   "cell_type": "code",
   "execution_count": 8,
   "metadata": {
    "collapsed": false,
    "deletable": true,
    "editable": true
   },
   "outputs": [
    {
     "data": {
      "text/plain": [
       "'graphviz/NeuronXnor.jpg'"
      ]
     },
     "execution_count": 8,
     "metadata": {},
     "output_type": "execute_result"
    }
   ],
   "source": [
    "#Neuron XNOR graphic\n",
    "dot = Digraph(comment='Neuron XNOR', directory='graphviz', \n",
    "              format='jpg', filename=\"NeuronXnor\")\n",
    "\n",
    "dot.node('A', '+1'); dot.node('A2', '+1'); dot.node('B', 'x1'); dot.node('C', 'x2');\n",
    "dot.node('NAnd', 'Neuron AND');\n",
    "dot.node('NNand', 'Neuron NAND');\n",
    "dot.node('NOr', 'Neuron OR');\n",
    "dot.node('H', 'Result');\n",
    "\n",
    "#and\n",
    "dot.edge(tail_name='A', head_name='NAnd', label=\"-30\", styles=\"invis\")\n",
    "dot.edge(tail_name='B', head_name='NAnd', label=\"20\")\n",
    "dot.edge(tail_name='C', head_name='NAnd', label=\"20\")\n",
    "\n",
    "#Nand\n",
    "dot.edge(tail_name='A', head_name='NNand', label=\"10\", styles=\"invis\")\n",
    "dot.edge(tail_name='B', head_name='NNand', label=\"-20\")\n",
    "dot.edge(tail_name='C', head_name='NNand', label=\"-20\")\n",
    "\n",
    "#Or\n",
    "dot.edge(tail_name='A2', head_name='NOr', label=\"-10\")\n",
    "dot.edge(tail_name='NAnd', head_name='NOr', label=\"20\")\n",
    "dot.edge(tail_name='NNand', head_name='NOr', label=\"20\")\n",
    "\n",
    "#connect Or with h\n",
    "dot.edge(tail_name='NOr', head_name='H', label=\"?\")\n",
    "\n",
    "dot.graph_attr.update('graph' in styles and styles['graph'])\n",
    "\n",
    "dot.render(view=False)\n",
    "#dot"
   ]
  },
  {
   "cell_type": "markdown",
   "metadata": {
    "deletable": true,
    "editable": true
   },
   "source": [
    "## Example Neuron OR"
   ]
  },
  {
   "cell_type": "markdown",
   "metadata": {
    "deletable": true,
    "editable": true
   },
   "source": [
    "This hypothesis with the Sigmoid function is a logical OR\n",
    "<br>Our bias variable $x_0=1$ (it always is 1). $b=-10, \\theta_1=20,\\theta_2=20$\n",
    "\n",
    "$h_\\theta(x)=g(-10+20x_1+20x_2)$"
   ]
  },
  {
   "cell_type": "code",
   "execution_count": 9,
   "metadata": {
    "collapsed": false,
    "deletable": true,
    "editable": true
   },
   "outputs": [
    {
     "data": {
      "image/jpeg": "[encoded data removed]",
      "text/plain": [
       "<IPython.core.display.Image object>"
      ]
     },
     "execution_count": 9,
     "metadata": {},
     "output_type": "execute_result"
    }
   ],
   "source": [
    "Image(filename=\"graphviz/NeuronOr.jpg\")"
   ]
  },
  {
   "cell_type": "markdown",
   "metadata": {
    "deletable": true,
    "editable": true
   },
   "source": [
    "x1=0, x2=0\n",
    "\n",
    "$g(-10+20*0+20*0)\\approx0$"
   ]
  },
  {
   "cell_type": "markdown",
   "metadata": {
    "deletable": true,
    "editable": true
   },
   "source": [
    "---"
   ]
  },
  {
   "cell_type": "markdown",
   "metadata": {
    "deletable": true,
    "editable": true
   },
   "source": [
    "x1=0, x2=1\n",
    "\n",
    "$g(-10+20*0+20*1)\\approx1$"
   ]
  },
  {
   "cell_type": "markdown",
   "metadata": {
    "deletable": true,
    "editable": true
   },
   "source": [
    "---"
   ]
  },
  {
   "cell_type": "markdown",
   "metadata": {
    "deletable": true,
    "editable": true
   },
   "source": [
    "x1=1, x2=0\n",
    "\n",
    "$g(-10+20*1+20*0)\\approx1$"
   ]
  },
  {
   "cell_type": "markdown",
   "metadata": {
    "deletable": true,
    "editable": true
   },
   "source": [
    "---"
   ]
  },
  {
   "cell_type": "markdown",
   "metadata": {
    "deletable": true,
    "editable": true
   },
   "source": [
    "x1=1, x2=1\n",
    "\n",
    "$g(-10+20*1+20*1)\\approx1$"
   ]
  },
  {
   "cell_type": "markdown",
   "metadata": {
    "deletable": true,
    "editable": true
   },
   "source": [
    "---"
   ]
  },
  {
   "cell_type": "markdown",
   "metadata": {
    "deletable": true,
    "editable": true
   },
   "source": [
    "$h_\\theta(x)=g(-10+20x_1+20x_2)$\n",
    "\n",
    "| x1  | x2 || h(x) |\n",
    "|:---:|:--:|| ----:|\n",
    "|  0  | 0  || 0    |\n",
    "|  0  | 1  || 1    |\n",
    "|  1  | 0  || 1    |\n",
    "|  1  | 1  || 1    |"
   ]
  },
  {
   "cell_type": "markdown",
   "metadata": {
    "deletable": true,
    "editable": true
   },
   "source": [
    "## Example Neuron AND"
   ]
  },
  {
   "cell_type": "markdown",
   "metadata": {
    "deletable": true,
    "editable": true
   },
   "source": [
    "This hypothesis with the Sigmoid function is a logical AND\n",
    "<br>Our bias variable $x_0=1$ (it always is 1). $b=-30, \\theta_1=20,\\theta_2=20$\n",
    "\n",
    "$h_\\theta(x)=g(-30+20x_1+20x_2)$"
   ]
  },
  {
   "cell_type": "code",
   "execution_count": 10,
   "metadata": {
    "collapsed": false,
    "deletable": true,
    "editable": true
   },
   "outputs": [
    {
     "data": {
      "image/jpeg": "[encoded data removed]",
      "text/plain": [
       "<IPython.core.display.Image object>"
      ]
     },
     "execution_count": 10,
     "metadata": {},
     "output_type": "execute_result"
    }
   ],
   "source": [
    "Image(filename=\"graphviz/NeuronAnd.jpg\")"
   ]
  },
  {
   "cell_type": "markdown",
   "metadata": {
    "deletable": true,
    "editable": true
   },
   "source": [
    "$h_\\theta(x)=g(-30+20x_1+20x_2)$\n",
    "\n",
    "| x1 | x2 || h(x) |\n",
    "| -- |:--:|| ----:|\n",
    "| 0  | 0  || 0    |\n",
    "| 0  | 1  || 0    |\n",
    "| 1  | 0  || 0    |\n",
    "| 1  | 1  || 1    |"
   ]
  },
  {
   "cell_type": "markdown",
   "metadata": {
    "deletable": true,
    "editable": true
   },
   "source": [
    "## Example Negation"
   ]
  },
  {
   "cell_type": "markdown",
   "metadata": {
    "deletable": true,
    "editable": true
   },
   "source": [
    "To create a logical NAND or a NOR negation is key.\n",
    "<br>Our bias variable $x_0=1$ (it always is 1). $b=10, \\theta_1=-20$\n",
    "<br>Because of $\\theta_2$ being negative the result is inverted.\n",
    "\n",
    "$h_\\theta(x)=g(10-20x_1)$"
   ]
  },
  {
   "cell_type": "code",
   "execution_count": 11,
   "metadata": {
    "collapsed": false,
    "deletable": true,
    "editable": true
   },
   "outputs": [
    {
     "data": {
      "image/jpeg": "[encoded data removed]",
      "text/plain": [
       "<IPython.core.display.Image object>"
      ]
     },
     "execution_count": 11,
     "metadata": {},
     "output_type": "execute_result"
    }
   ],
   "source": [
    "Image(filename=\"graphviz/NeuronNegation.jpg\")"
   ]
  },
  {
   "cell_type": "markdown",
   "metadata": {
    "deletable": true,
    "editable": true
   },
   "source": [
    "$h_\\theta(x)=g(10-20x_1)$\n",
    "\n",
    "| x1 || h(x) |\n",
    "|----|| ----:|\n",
    "| 0  || 1    |\n",
    "| 1  || 0    |\n"
   ]
  },
  {
   "cell_type": "markdown",
   "metadata": {
    "deletable": true,
    "editable": true
   },
   "source": [
    "## Example NAND"
   ]
  },
  {
   "cell_type": "markdown",
   "metadata": {
    "deletable": true,
    "editable": true
   },
   "source": [
    "Going back to having x1 and x2 our Hypothesis for NAND looks like this\n",
    "<br>Our bias variable $x_0=1$ (it always is 1). $b=10, \\theta_1=-20, \\theta_2=-20$\n",
    "\n",
    "$h_\\theta(x)=g(10-20x_1-20x_2)$"
   ]
  },
  {
   "cell_type": "code",
   "execution_count": 12,
   "metadata": {
    "collapsed": false,
    "deletable": true,
    "editable": true
   },
   "outputs": [
    {
     "data": {
      "image/jpeg": "[encoded data removed]",
      "text/plain": [
       "<IPython.core.display.Image object>"
      ]
     },
     "execution_count": 12,
     "metadata": {},
     "output_type": "execute_result"
    }
   ],
   "source": [
    "Image(filename=\"graphviz/NeuronNand.jpg\")"
   ]
  },
  {
   "cell_type": "markdown",
   "metadata": {
    "deletable": true,
    "editable": true
   },
   "source": [
    "$h_\\theta(x)=g(10-20x_1-20x_2)$\n",
    "\n",
    "| x1 | x2 || h(x) |\n",
    "| -- |:--:|| ----:|\n",
    "| 0  | 0  || 1    |\n",
    "| 0  | 1  || 0    |\n",
    "| 1  | 0  || 0    |\n",
    "| 1  | 1  || 0    |"
   ]
  },
  {
   "cell_type": "markdown",
   "metadata": {
    "deletable": true,
    "editable": true
   },
   "source": [
    "## Example NOR"
   ]
  },
  {
   "cell_type": "markdown",
   "metadata": {
    "deletable": true,
    "editable": true
   },
   "source": [
    "Our Hypothesis for NOR looks like this\n",
    "<br>Our bias variable $x_0=1$ (it always is 1). $b=30, \\theta_1=-20,\\theta_2=-20$\n",
    "\n",
    "$h_\\theta(x)=g(30-20x_1-20x_2)$"
   ]
  },
  {
   "cell_type": "code",
   "execution_count": 13,
   "metadata": {
    "collapsed": false,
    "deletable": true,
    "editable": true,
    "scrolled": true
   },
   "outputs": [
    {
     "data": {
      "image/jpeg": "[encoded data removed]",
      "text/plain": [
       "<IPython.core.display.Image object>"
      ]
     },
     "execution_count": 13,
     "metadata": {},
     "output_type": "execute_result"
    }
   ],
   "source": [
    "Image(filename=\"graphviz/NeuronNor.jpg\")"
   ]
  },
  {
   "cell_type": "markdown",
   "metadata": {
    "deletable": true,
    "editable": true
   },
   "source": [
    "$h_\\theta(x)=g(30-20x_1-20x_2)$\n",
    "\n",
    "| x1  | x2 || h(x) |\n",
    "|:---:|:--:|| ----:|\n",
    "|  0  | 0  || 1    |\n",
    "|  0  | 1  || 1    |\n",
    "|  1  | 0  || 1    |\n",
    "|  1  | 1  || 0    |"
   ]
  },
  {
   "cell_type": "markdown",
   "metadata": {
    "deletable": true,
    "editable": true
   },
   "source": [
    "## Example XNOR"
   ]
  },
  {
   "cell_type": "markdown",
   "metadata": {
    "deletable": true,
    "editable": true
   },
   "source": [
    "Altough not described in this document also XOR is possible as well as XNOR and XNAND. XNOR will be shown here the others not. XNOR combines an AND, NAND and OR gate. This makes the graphic look confusing but it's just the combination of AND, NAND, OR."
   ]
  },
  {
   "cell_type": "code",
   "execution_count": 14,
   "metadata": {
    "collapsed": false,
    "deletable": true,
    "editable": true
   },
   "outputs": [
    {
     "data": {
      "image/jpeg": "[encoded data removed]",
      "text/plain": [
       "<IPython.core.display.Image object>"
      ]
     },
     "execution_count": 14,
     "metadata": {},
     "output_type": "execute_result"
    }
   ],
   "source": [
    "Image(filename=\"graphviz/NeuronXNor.jpg\")"
   ]
  },
  {
   "cell_type": "markdown",
   "metadata": {
    "deletable": true,
    "editable": true
   },
   "source": [
    "| x1  | x2 || Neuron AND | Neuron NAND || h(x) |\n",
    "|:---:|:--:||:----------:|:-----------:|| ----:|\n",
    "|  0  | 0  ||     0      |      1      || 1    |\n",
    "|  0  | 1  ||     0      |      0      || 0    |\n",
    "|  1  | 0  ||     0      |      0      || 0    |\n",
    "|  1  | 1  ||     1      |      0      || 1    |"
   ]
  }
 ],
 "metadata": {
  "kernelspec": {
   "display_name": "Python 3",
   "language": "python",
   "name": "python3"
  },
  "language_info": {
   "codemirror_mode": {
    "name": "ipython",
    "version": 3
   },
   "file_extension": ".py",
   "mimetype": "text/x-python",
   "name": "python",
   "nbconvert_exporter": "python",
   "pygments_lexer": "ipython3",
   "version": "3.5.2"
  }
 },
 "nbformat": 4,
 "nbformat_minor": 2
}
