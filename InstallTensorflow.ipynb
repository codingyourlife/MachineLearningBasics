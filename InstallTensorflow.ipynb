{
 "cells": [
  {
   "cell_type": "markdown",
   "metadata": {},
   "source": [
    "## Install Tensorflow\n",
    "<b>This is how you install Tensorflow on a Mac</b>\n",
    "\n",
    "#Prerequisits\n",
    "<br>/usr/bin/ruby -e \"$(curl -fsSL https://raw.githubusercontent.com/Homebrew/install/master/install)\"\n",
    "<br>brew cask install java\n",
    "<br>brew install bazel swig\n",
    "<br>sudo easy_install ipython\n",
    "<br>sudo easy_install pip\n",
    "\n",
    "#install python3 (+pip3)\n",
    "<br>brew install python3\n",
    "<br>curl https://bootstrap.pypa.io/get-pip.py | sudo python3\n",
    "\n",
    "#Prepair Tensorflow installation\n",
    "<br>#get current version from - https://www.tensorflow.org/get_started/os_setup\n",
    "<br>export TF_BINARY_URL=https://storage.googleapis.com/tensorflow/mac/cpu/tensorflow-0.12.1-py3-none-any.whl\n",
    "\n",
    "#Install Tensorflow\n",
    "<br>sudo pip3 install --upgrade $TF_BINARY_URL #install"
   ]
  }
 ],
 "metadata": {
  "kernelspec": {
   "display_name": "Python 3",
   "language": "python",
   "name": "python3"
  },
  "language_info": {
   "codemirror_mode": {
    "name": "ipython",
    "version": 3
   },
   "file_extension": ".py",
   "mimetype": "text/x-python",
   "name": "python",
   "nbconvert_exporter": "python",
   "pygments_lexer": "ipython3",
   "version": "3.5.2"
  }
 },
 "nbformat": 4,
 "nbformat_minor": 2
}
